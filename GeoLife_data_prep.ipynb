{
  "nbformat": 4,
  "nbformat_minor": 0,
  "metadata": {
    "colab": {
      "name": "GeoLife_data_prep.ipynb",
      "provenance": [],
      "collapsed_sections": [],
      "include_colab_link": true
    },
    "kernelspec": {
      "name": "python3",
      "display_name": "Python 3"
    },
    "language_info": {
      "name": "python"
    }
  },
  "cells": [
    {
      "cell_type": "markdown",
      "metadata": {
        "id": "view-in-github",
        "colab_type": "text"
      },
      "source": [
        "<a href=\"https://colab.research.google.com/github/moira-du-monde/geolife_queries/blob/main/GeoLife_data_prep.ipynb\" target=\"_parent\"><img src=\"https://colab.research.google.com/assets/colab-badge.svg\" alt=\"Open In Colab\"/></a>"
      ]
    },
    {
      "cell_type": "code",
      "source": [
        "%%capture\n",
        "pip install geopandas"
      ],
      "metadata": {
        "id": "HOj7VPLyys9v"
      },
      "execution_count": null,
      "outputs": []
    },
    {
      "cell_type": "code",
      "metadata": {
        "id": "QeNw68R4rrlh"
      },
      "source": [
        "import pandas as pd\n",
        "import geopandas as gpd\n",
        "import os\n",
        "\n",
        "# from os import listdir\n",
        "# from os.path import isfile, join\n"
      ],
      "execution_count": null,
      "outputs": []
    },
    {
      "cell_type": "code",
      "source": [
        "from google.colab import drive\n",
        "drive.mount('/content/drive')"
      ],
      "metadata": {
        "colab": {
          "base_uri": "https://localhost:8080/"
        },
        "id": "EmXYTrwhSr49",
        "outputId": "c14eee07-90c3-4332-d24d-821bdf72fb2d"
      },
      "execution_count": null,
      "outputs": [
        {
          "output_type": "stream",
          "name": "stdout",
          "text": [
            "Mounted at /content/drive\n"
          ]
        }
      ]
    },
    {
      "cell_type": "code",
      "source": [
        "folder_path = '/content/drive/MyDrive/geolife/full/Geolife Trajectories 1.3/Data'\n",
        "\n",
        "def getListOfFiles(dirName):\n",
        "    # create a list of file and sub directories \n",
        "    # names in the given directory \n",
        "    listOfFile = os.listdir(dirName)\n",
        "    allFiles = list()\n",
        "    # Iterate over all the entries\n",
        "    for entry in listOfFile:\n",
        "        # Create full path\n",
        "        fullPath = os.path.join(dirName, entry)\n",
        "        # If entry is a directory then get the list of files in this directory \n",
        "        if os.path.isdir(fullPath):\n",
        "            allFiles = allFiles + getListOfFiles(fullPath)\n",
        "        else:\n",
        "            allFiles.append(fullPath)\n",
        "                \n",
        "    return allFiles"
      ],
      "metadata": {
        "id": "9viDjjnXTjZR"
      },
      "execution_count": null,
      "outputs": []
    },
    {
      "cell_type": "code",
      "source": [
        "files = getListOfFiles(folder_path)"
      ],
      "metadata": {
        "id": "1RBKcGjxTth7"
      },
      "execution_count": null,
      "outputs": []
    },
    {
      "cell_type": "code",
      "source": [
        "len(files)"
      ],
      "metadata": {
        "colab": {
          "base_uri": "https://localhost:8080/"
        },
        "id": "VwmZpabn8Ury",
        "outputId": "ab15977a-a92f-442f-eeed-9f14a170fb10"
      },
      "execution_count": null,
      "outputs": [
        {
          "output_type": "execute_result",
          "data": {
            "text/plain": [
              "18670"
            ]
          },
          "metadata": {},
          "execution_count": 67
        }
      ]
    },
    {
      "cell_type": "code",
      "source": [
        "li = []\n",
        "\n",
        "for i in range(len(files)):\n",
        "  # Read trajectory one by one\n",
        "  this_traj = pd.read_csv(files[i],header=None, skiprows = 6)\n",
        "  #this_traj.columns=[\"lat\",\"lng\",\"zero\",\"elevation\",\"longtimestring\",\"date\",\"time\"]\n",
        "  li.append(this_traj)\n",
        "\n",
        "frame = pd.concat(li, axis = 0, ignore_index= True)\n",
        "\n",
        "frame.columns = [\"lat\",\"lng\",\"zero\",\"elevation\",\"longtimestring\",\"date\",\"time\"]\n",
        "# create geom column for geodataframe\n",
        "frame['geometry'] = list(zip(frame.lat, frame.lng))\n",
        "\n",
        "frame_gpd = gpd.GeoDataFrame(frame)\n",
        "frame.shape"
      ],
      "metadata": {
        "id": "zOGPFPCQzxdY"
      },
      "execution_count": null,
      "outputs": []
    },
    {
      "cell_type": "code",
      "source": [
        "frame.columns = [\"lat\",\"lng\",\"zero\",\"elevation\",\"longtimestring\",\"date\",\"time\"]\n",
        "frame.head()"
      ],
      "metadata": {
        "colab": {
          "base_uri": "https://localhost:8080/",
          "height": 206
        },
        "id": "Hv1QZlTnvKIt",
        "outputId": "be814717-acce-42b9-9da4-a41538b1aad1"
      },
      "execution_count": null,
      "outputs": [
        {
          "output_type": "execute_result",
          "data": {
            "text/plain": [
              "         lat         lng  zero  elevation  longtimestring        date  \\\n",
              "0  39.980202  116.345398     0      175.0    39746.598611  2008-10-25   \n",
              "1  39.980547  116.345549     0      186.0    39746.598669  2008-10-25   \n",
              "2  39.980585  116.345109     0       10.0    39746.599028  2008-10-25   \n",
              "3  39.980624  116.345264     0       -4.0    39746.599086  2008-10-25   \n",
              "4  39.980873  116.345361     0       18.0    39746.599144  2008-10-25   \n",
              "\n",
              "       time  \n",
              "0  14:22:00  \n",
              "1  14:22:05  \n",
              "2  14:22:36  \n",
              "3  14:22:41  \n",
              "4  14:22:46  "
            ],
            "text/html": [
              "\n",
              "  <div id=\"df-d91f979b-4b14-447e-91db-a35cb81321a7\">\n",
              "    <div class=\"colab-df-container\">\n",
              "      <div>\n",
              "<style scoped>\n",
              "    .dataframe tbody tr th:only-of-type {\n",
              "        vertical-align: middle;\n",
              "    }\n",
              "\n",
              "    .dataframe tbody tr th {\n",
              "        vertical-align: top;\n",
              "    }\n",
              "\n",
              "    .dataframe thead th {\n",
              "        text-align: right;\n",
              "    }\n",
              "</style>\n",
              "<table border=\"1\" class=\"dataframe\">\n",
              "  <thead>\n",
              "    <tr style=\"text-align: right;\">\n",
              "      <th></th>\n",
              "      <th>lat</th>\n",
              "      <th>lng</th>\n",
              "      <th>zero</th>\n",
              "      <th>elevation</th>\n",
              "      <th>longtimestring</th>\n",
              "      <th>date</th>\n",
              "      <th>time</th>\n",
              "    </tr>\n",
              "  </thead>\n",
              "  <tbody>\n",
              "    <tr>\n",
              "      <th>0</th>\n",
              "      <td>39.980202</td>\n",
              "      <td>116.345398</td>\n",
              "      <td>0</td>\n",
              "      <td>175.0</td>\n",
              "      <td>39746.598611</td>\n",
              "      <td>2008-10-25</td>\n",
              "      <td>14:22:00</td>\n",
              "    </tr>\n",
              "    <tr>\n",
              "      <th>1</th>\n",
              "      <td>39.980547</td>\n",
              "      <td>116.345549</td>\n",
              "      <td>0</td>\n",
              "      <td>186.0</td>\n",
              "      <td>39746.598669</td>\n",
              "      <td>2008-10-25</td>\n",
              "      <td>14:22:05</td>\n",
              "    </tr>\n",
              "    <tr>\n",
              "      <th>2</th>\n",
              "      <td>39.980585</td>\n",
              "      <td>116.345109</td>\n",
              "      <td>0</td>\n",
              "      <td>10.0</td>\n",
              "      <td>39746.599028</td>\n",
              "      <td>2008-10-25</td>\n",
              "      <td>14:22:36</td>\n",
              "    </tr>\n",
              "    <tr>\n",
              "      <th>3</th>\n",
              "      <td>39.980624</td>\n",
              "      <td>116.345264</td>\n",
              "      <td>0</td>\n",
              "      <td>-4.0</td>\n",
              "      <td>39746.599086</td>\n",
              "      <td>2008-10-25</td>\n",
              "      <td>14:22:41</td>\n",
              "    </tr>\n",
              "    <tr>\n",
              "      <th>4</th>\n",
              "      <td>39.980873</td>\n",
              "      <td>116.345361</td>\n",
              "      <td>0</td>\n",
              "      <td>18.0</td>\n",
              "      <td>39746.599144</td>\n",
              "      <td>2008-10-25</td>\n",
              "      <td>14:22:46</td>\n",
              "    </tr>\n",
              "  </tbody>\n",
              "</table>\n",
              "</div>\n",
              "      <button class=\"colab-df-convert\" onclick=\"convertToInteractive('df-d91f979b-4b14-447e-91db-a35cb81321a7')\"\n",
              "              title=\"Convert this dataframe to an interactive table.\"\n",
              "              style=\"display:none;\">\n",
              "        \n",
              "  <svg xmlns=\"http://www.w3.org/2000/svg\" height=\"24px\"viewBox=\"0 0 24 24\"\n",
              "       width=\"24px\">\n",
              "    <path d=\"M0 0h24v24H0V0z\" fill=\"none\"/>\n",
              "    <path d=\"M18.56 5.44l.94 2.06.94-2.06 2.06-.94-2.06-.94-.94-2.06-.94 2.06-2.06.94zm-11 1L8.5 8.5l.94-2.06 2.06-.94-2.06-.94L8.5 2.5l-.94 2.06-2.06.94zm10 10l.94 2.06.94-2.06 2.06-.94-2.06-.94-.94-2.06-.94 2.06-2.06.94z\"/><path d=\"M17.41 7.96l-1.37-1.37c-.4-.4-.92-.59-1.43-.59-.52 0-1.04.2-1.43.59L10.3 9.45l-7.72 7.72c-.78.78-.78 2.05 0 2.83L4 21.41c.39.39.9.59 1.41.59.51 0 1.02-.2 1.41-.59l7.78-7.78 2.81-2.81c.8-.78.8-2.07 0-2.86zM5.41 20L4 18.59l7.72-7.72 1.47 1.35L5.41 20z\"/>\n",
              "  </svg>\n",
              "      </button>\n",
              "      \n",
              "  <style>\n",
              "    .colab-df-container {\n",
              "      display:flex;\n",
              "      flex-wrap:wrap;\n",
              "      gap: 12px;\n",
              "    }\n",
              "\n",
              "    .colab-df-convert {\n",
              "      background-color: #E8F0FE;\n",
              "      border: none;\n",
              "      border-radius: 50%;\n",
              "      cursor: pointer;\n",
              "      display: none;\n",
              "      fill: #1967D2;\n",
              "      height: 32px;\n",
              "      padding: 0 0 0 0;\n",
              "      width: 32px;\n",
              "    }\n",
              "\n",
              "    .colab-df-convert:hover {\n",
              "      background-color: #E2EBFA;\n",
              "      box-shadow: 0px 1px 2px rgba(60, 64, 67, 0.3), 0px 1px 3px 1px rgba(60, 64, 67, 0.15);\n",
              "      fill: #174EA6;\n",
              "    }\n",
              "\n",
              "    [theme=dark] .colab-df-convert {\n",
              "      background-color: #3B4455;\n",
              "      fill: #D2E3FC;\n",
              "    }\n",
              "\n",
              "    [theme=dark] .colab-df-convert:hover {\n",
              "      background-color: #434B5C;\n",
              "      box-shadow: 0px 1px 3px 1px rgba(0, 0, 0, 0.15);\n",
              "      filter: drop-shadow(0px 1px 2px rgba(0, 0, 0, 0.3));\n",
              "      fill: #FFFFFF;\n",
              "    }\n",
              "  </style>\n",
              "\n",
              "      <script>\n",
              "        const buttonEl =\n",
              "          document.querySelector('#df-d91f979b-4b14-447e-91db-a35cb81321a7 button.colab-df-convert');\n",
              "        buttonEl.style.display =\n",
              "          google.colab.kernel.accessAllowed ? 'block' : 'none';\n",
              "\n",
              "        async function convertToInteractive(key) {\n",
              "          const element = document.querySelector('#df-d91f979b-4b14-447e-91db-a35cb81321a7');\n",
              "          const dataTable =\n",
              "            await google.colab.kernel.invokeFunction('convertToInteractive',\n",
              "                                                     [key], {});\n",
              "          if (!dataTable) return;\n",
              "\n",
              "          const docLinkHtml = 'Like what you see? Visit the ' +\n",
              "            '<a target=\"_blank\" href=https://colab.research.google.com/notebooks/data_table.ipynb>data table notebook</a>'\n",
              "            + ' to learn more about interactive tables.';\n",
              "          element.innerHTML = '';\n",
              "          dataTable['output_type'] = 'display_data';\n",
              "          await google.colab.output.renderOutput(dataTable, element);\n",
              "          const docLink = document.createElement('div');\n",
              "          docLink.innerHTML = docLinkHtml;\n",
              "          element.appendChild(docLink);\n",
              "        }\n",
              "      </script>\n",
              "    </div>\n",
              "  </div>\n",
              "  "
            ]
          },
          "metadata": {},
          "execution_count": 77
        }
      ]
    },
    {
      "cell_type": "code",
      "source": [
        "# create geom column for geodataframe\n",
        "frame['geometry'] = list(zip(frame.lat, frame.lng))\n",
        "\n",
        "frame_gpd = gpd.GeoDataFrame(frame)\n",
        "frame.shape"
      ],
      "metadata": {
        "colab": {
          "base_uri": "https://localhost:8080/"
        },
        "id": "euSssMhm8oHf",
        "outputId": "306b58e9-a38b-44d6-96e5-c3a3eba91b0b"
      },
      "execution_count": null,
      "outputs": [
        {
          "output_type": "execute_result",
          "data": {
            "text/plain": [
              "(24876978, 8)"
            ]
          },
          "metadata": {},
          "execution_count": 78
        }
      ]
    },
    {
      "cell_type": "code",
      "source": [
        "frame.to_csv('/content/drive/MyDrive/geolife/full/Geolife Trajectories 1.3/compiled.csv')"
      ],
      "metadata": {
        "id": "OkuFc16j7yoN"
      },
      "execution_count": null,
      "outputs": []
    }
  ]
}